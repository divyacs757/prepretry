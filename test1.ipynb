{
 "cells": [
  {
   "cell_type": "code",
   "execution_count": 1,
   "id": "3771d9ca-4257-40b6-94ac-5807dbe3aad2",
   "metadata": {},
   "outputs": [],
   "source": [
    "import pandas as pd \n",
    "import numpy as np \n",
    "import matplotlib.pyplot as plt "
   ]
  },
  {
   "cell_type": "code",
   "execution_count": 2,
   "id": "69956113-3214-4eb0-8a2b-fc20cd0094ed",
   "metadata": {},
   "outputs": [
    {
     "data": {
      "text/html": [
       "<div>\n",
       "<style scoped>\n",
       "    .dataframe tbody tr th:only-of-type {\n",
       "        vertical-align: middle;\n",
       "    }\n",
       "\n",
       "    .dataframe tbody tr th {\n",
       "        vertical-align: top;\n",
       "    }\n",
       "\n",
       "    .dataframe thead th {\n",
       "        text-align: right;\n",
       "    }\n",
       "</style>\n",
       "<table border=\"1\" class=\"dataframe\">\n",
       "  <thead>\n",
       "    <tr style=\"text-align: right;\">\n",
       "      <th></th>\n",
       "      <th>mpg</th>\n",
       "      <th>cylinders</th>\n",
       "      <th>displacement</th>\n",
       "      <th>horsepower</th>\n",
       "      <th>weight</th>\n",
       "      <th>acceleration</th>\n",
       "      <th>model year</th>\n",
       "      <th>origin</th>\n",
       "      <th>car name</th>\n",
       "    </tr>\n",
       "  </thead>\n",
       "  <tbody>\n",
       "    <tr>\n",
       "      <th>0</th>\n",
       "      <td>18.0</td>\n",
       "      <td>8</td>\n",
       "      <td>307.0</td>\n",
       "      <td>130</td>\n",
       "      <td>3504</td>\n",
       "      <td>12.0</td>\n",
       "      <td>70</td>\n",
       "      <td>1</td>\n",
       "      <td>chevrolet chevelle malibu</td>\n",
       "    </tr>\n",
       "    <tr>\n",
       "      <th>1</th>\n",
       "      <td>15.0</td>\n",
       "      <td>8</td>\n",
       "      <td>350.0</td>\n",
       "      <td>165</td>\n",
       "      <td>3693</td>\n",
       "      <td>11.5</td>\n",
       "      <td>70</td>\n",
       "      <td>1</td>\n",
       "      <td>buick skylark 320</td>\n",
       "    </tr>\n",
       "    <tr>\n",
       "      <th>2</th>\n",
       "      <td>18.0</td>\n",
       "      <td>8</td>\n",
       "      <td>318.0</td>\n",
       "      <td>150</td>\n",
       "      <td>3436</td>\n",
       "      <td>11.0</td>\n",
       "      <td>70</td>\n",
       "      <td>1</td>\n",
       "      <td>plymouth satellite</td>\n",
       "    </tr>\n",
       "    <tr>\n",
       "      <th>3</th>\n",
       "      <td>16.0</td>\n",
       "      <td>8</td>\n",
       "      <td>304.0</td>\n",
       "      <td>150</td>\n",
       "      <td>3433</td>\n",
       "      <td>12.0</td>\n",
       "      <td>70</td>\n",
       "      <td>1</td>\n",
       "      <td>amc rebel sst</td>\n",
       "    </tr>\n",
       "    <tr>\n",
       "      <th>4</th>\n",
       "      <td>17.0</td>\n",
       "      <td>8</td>\n",
       "      <td>302.0</td>\n",
       "      <td>140</td>\n",
       "      <td>3449</td>\n",
       "      <td>10.5</td>\n",
       "      <td>70</td>\n",
       "      <td>1</td>\n",
       "      <td>ford torino</td>\n",
       "    </tr>\n",
       "  </tbody>\n",
       "</table>\n",
       "</div>"
      ],
      "text/plain": [
       "    mpg  cylinders  displacement horsepower  weight  acceleration  model year  \\\n",
       "0  18.0          8         307.0        130    3504          12.0          70   \n",
       "1  15.0          8         350.0        165    3693          11.5          70   \n",
       "2  18.0          8         318.0        150    3436          11.0          70   \n",
       "3  16.0          8         304.0        150    3433          12.0          70   \n",
       "4  17.0          8         302.0        140    3449          10.5          70   \n",
       "\n",
       "   origin                   car name  \n",
       "0       1  chevrolet chevelle malibu  \n",
       "1       1          buick skylark 320  \n",
       "2       1         plymouth satellite  \n",
       "3       1              amc rebel sst  \n",
       "4       1                ford torino  "
      ]
     },
     "execution_count": 2,
     "metadata": {},
     "output_type": "execute_result"
    }
   ],
   "source": [
    "data=pd.read_csv('D:/dip(AIML(cse))/kaggle/auto-mpg.csv')\n",
    "df=pd.DataFrame(data) \n",
    "df.head()"
   ]
  },
  {
   "cell_type": "code",
   "execution_count": 3,
   "id": "93ef65c2-9ead-4c6c-a058-a452bca2f142",
   "metadata": {},
   "outputs": [
    {
     "data": {
      "text/plain": [
       "<Axes: >"
      ]
     },
     "execution_count": 3,
     "metadata": {},
     "output_type": "execute_result"
    },
    {
     "data": {
      "image/png": "[encoded data removed]",
      "text/plain": [
       "<Figure size 640x480 with 1 Axes>"
      ]
     },
     "metadata": {},
     "output_type": "display_data"
    }
   ],
   "source": [
    "df['mpg'].plot(kind='box')"
   ]
  },
  {
   "cell_type": "code",
   "execution_count": 4,
   "id": "a444b8b0-4940-4c41-967f-ee7593950623",
   "metadata": {},
   "outputs": [],
   "source": [
    "q1=df['mpg'].quantile(0.25)\n",
    "q3=df['mpg'].quantile(0.75)\n",
    "iqr=q3-q1 \n",
    "ub=q3+(1.5*iqr)\n",
    "lb=q1-(1.5*iqr)"
   ]
  },
  {
   "cell_type": "code",
   "execution_count": 5,
   "id": "f64f9a51-fe5c-4708-8e12-d16d200a1819",
   "metadata": {},
   "outputs": [],
   "source": [
    "uc=30\n",
    "lc=0"
   ]
  },
  {
   "cell_type": "code",
   "execution_count": 6,
   "id": "829f904f-e5a6-441b-8d1b-2d8262632e24",
   "metadata": {},
   "outputs": [
    {
     "data": {
      "text/plain": [
       "<Axes: >"
      ]
     },
     "execution_count": 6,
     "metadata": {},
     "output_type": "execute_result"
    },
    {
     "data": {
      "image/png": "[encoded data removed]",
      "text/plain": [
       "<Figure size 640x480 with 1 Axes>"
      ]
     },
     "metadata": {},
     "output_type": "display_data"
    }
   ],
   "source": [
    "for i in df['mpg']: \n",
    "    if i<lb: \n",
    "        df['mpg']=df['mpg'].replace(i,lc) \n",
    "    elif i>ub: \n",
    "        df['mpg']=df['mpg'].replace(i,uc) \n",
    "df['mpg'].plot(kind='box')"
   ]
  },
  {
   "cell_type": "code",
   "execution_count": 17,
   "id": "4de84e57-65eb-4be7-a46a-530ce4b597cc",
   "metadata": {},
   "outputs": [
    {
     "name": "stdout",
     "output_type": "stream",
     "text": [
      "[95.0, 95.0, 97.0, 85.0, 88.0, 46.0, 87.0, 90.0, 95.0, 113.0, 90.0, 88.0, 90.0, 95.0, 100.0, 105.0, 100.0, 88.0, 100.0, 110.0, 72.0, 100.0, 88.0, 86.0, 90.0, 70.0, 76.0, 65.0, 69.0, 60.0, 70.0, 95.0, 80.0, 54.0, 90.0, 86.0, 97.0, 112.0, 76.0, 87.0, 69.0, 86.0, 92.0, 97.0, 80.0, 88.0, 105.0, 100.0, 100.0, 88.0, 95.0, 46.0, 100.0, 88.0, 72.0, 94.0, 90.0, 85.0, 107.0, 90.0, 49.0, 75.0, 91.0, 112.0, 110.0, 122.0, 95.0, 100.0, 100.0, 67.0, 80.0, 65.0, 75.0, 100.0, 110.0, 105.0, 83.0, 67.0, 78.0, 52.0, 61.0, 75.0, 75.0, 75.0, 97.0, 93.0, 67.0, 95.0, 105.0, 72.0, 72.0, 110.0, 105.0, 110.0, 95.0, 110.0, 110.0, 129.0, 75.0, 83.0, 100.0, 78.0, 96.0, 71.0, 97.0, 97.0, 70.0, 90.0, 95.0, 88.0, 98.0, 115.0, 53.0, 86.0, 81.0, 92.0, 79.0, 83.0, 120.0, 100.0, 105.0, 81.0, 90.0, 52.0, 60.0, 70.0, 53.0, 100.0, 78.0, 110.0, 95.0, 71.0, 70.0, 75.0, 72.0, 102.0, 88.0, 108.0, 120.0, 68.0, 80.0, 58.0, 96.0, 70.0, 110.0, 110.0, 105.0, 100.0, 98.0, 78.0, 88.0, 75.0, 89.0, 63.0, 83.0, 67.0, 78.0, 97.0, 110.0, 110.0, 48.0, 66.0, 52.0, 70.0, 60.0, 110.0, 105.0, 95.0, 85.0, 88.0, 100.0, 90.0, 105.0, 85.0, 110.0, 120.0, 68.0, 95.0, 97.0, 75.0, 95.0, 105.0, 85.0, 97.0, 103.0, 125.0, 115.0, 71.0, 68.0, 115.0, 85.0, 88.0, 90.0, 110.0, 129.0, 125.0, 71.0, 65.0, 80.0, 80.0, 77.0, 125.0, 71.0, 90.0, 70.0, 70.0, 65.0, 69.0, 90.0, 115.0, 115.0, 90.0, 76.0, 60.0, 70.0, 65.0, 90.0, 88.0, 90.0, 90.0, 78.0, 90.0, 75.0, 92.0, 75.0, 65.0, 105.0, 65.0, 48.0, 48.0, 67.0, 67.0, 67.0, 67.0, 62.0, 100.0, 88.0, 72.0, 84.0, 84.0, 92.0, 110.0, 84.0, 58.0, 64.0, 60.0, 67.0, 65.0, 62.0, 68.0, 63.0, 65.0, 65.0, 74.0, 75.0, 75.0, 100.0, 74.0, 80.0, 76.0, 116.0, 120.0, 110.0, 105.0, 88.0, 85.0, 88.0, 88.0, 88.0, 85.0, 84.0, 90.0, 92.0, 74.0, 68.0, 68.0, 63.0, 70.0, 88.0, 75.0, 70.0, 67.0, 67.0, 67.0, 110.0, 85.0, 92.0, 112.0, 96.0, 84.0, 90.0, 86.0, 52.0, 84.0, 79.0, 82.0]\n"
     ]
    }
   ],
   "source": [
    "a=list(filter(lambda x: x<130,df['horsepower']))\n",
    "print(a)"
   ]
  },
  {
   "cell_type": "code",
   "execution_count": null,
   "id": "c284dcf2-4058-443c-9708-3db88ca5b518",
   "metadata": {},
   "outputs": [],
   "source": [
    "#b=df[df['horsepower']<130]"
   ]
  },
  {
   "cell_type": "code",
   "execution_count": 10,
   "id": "9687c205-5236-4948-8f5a-dea5b9031107",
   "metadata": {},
   "outputs": [
    {
     "data": {
      "image/png": "[encoded data removed]",
      "text/plain": [
       "<Figure size 640x480 with 1 Axes>"
      ]
     },
     "metadata": {},
     "output_type": "display_data"
    }
   ],
   "source": [
    "h=df['cylinders'].value_counts().plot(kind='bar')"
   ]
  },
  {
   "cell_type": "code",
   "execution_count": 15,
   "id": "785e6236-87c5-4941-ad53-10940cc852f5",
   "metadata": {},
   "outputs": [],
   "source": [
    "df['horsepower'] = pd.to_numeric(df['horsepower'], errors='coerce')"
   ]
  },
  {
   "cell_type": "code",
   "execution_count": null,
   "id": "558fb05a-a69f-4878-8760-84482d6dbe72",
   "metadata": {},
   "outputs": [],
   "source": []
  }
 ],
 "metadata": {
  "kernelspec": {
   "display_name": "Python 3 (ipykernel)",
   "language": "python",
   "name": "python3"
  },
  "language_info": {
   "codemirror_mode": {
    "name": "ipython",
    "version": 3
   },
   "file_extension": ".py",
   "mimetype": "text/x-python",
   "name": "python",
   "nbconvert_exporter": "python",
   "pygments_lexer": "ipython3",
   "version": "3.13.5"
  }
 },
 "nbformat": 4,
 "nbformat_minor": 5
}
